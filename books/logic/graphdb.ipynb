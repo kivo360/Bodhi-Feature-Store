{
 "cells": [
  {
   "cell_type": "code",
   "execution_count": 1,
   "metadata": {},
   "outputs": [],
   "source": [
    "import os"
   ]
  },
  {
   "cell_type": "code",
   "execution_count": 46,
   "metadata": {},
   "outputs": [],
   "source": [
    "# from pydantic.dataclasses import dataclass\n",
    "import uuid\n",
    "from functools import cached_property\n",
    "from typing import Optional\n",
    "\n",
    "from loguru import logger\n",
    "\n",
    "from pydantic import BaseModel\n",
    "\n",
    "from mangostar import connection\n",
    "from mangostar.graph_database.graph import CursorAccountant\n",
    "from mangostar.graph_database.graph import Edge\n",
    "from mangostar.graph_database.graph import EdgeQuery\n",
    "from mangostar.graph_database.graph import Node\n",
    "from mangostar.graph_database.utilz import gen_hex_id\n",
    "from mangostar.graph_database.utilz import to_snake\n",
    "from mangostar.settings import ModuleSettings\n",
    "\n",
    "\n",
    "modset = ModuleSettings()\n",
    "\n",
    "\n",
    "class GraphController(BaseModel):\n",
    "    name: str\n",
    "\n",
    "    def __init__(self, name: Optional[str] = None, **data):\n",
    "        data[\"name\"] = name or modset.arangoo.graph_name\n",
    "        data[\"name\"] = to_snake(data[\"name\"])\n",
    "        super().__init__(**data)\n",
    "\n",
    "    @property\n",
    "    def db(self):\n",
    "        return connection.graph\n",
    "\n",
    "    @property\n",
    "    def graph(self):\n",
    "        if self.db.has_graph(self.name):\n",
    "            return self.db.graph(self.name)\n",
    "        else:\n",
    "            return self.db.create_graph(self.name)\n",
    "\n",
    "\n",
    "\n",
    "    def __get_collection(self, name: str):\n",
    "        if self.graph.has_vertex_collection(name):\n",
    "            return self.graph.vertex_collection(name)\n",
    "        else:\n",
    "            return self.graph.create_vertex_collection(name)\n",
    "\n",
    "    def __get_edge_collection(self, _edge: Edge, is_replace: bool = False):\n",
    "        if not self.graph.has_edge_definition(_edge.edge_type):\n",
    "            return self.graph.create_edge_definition(**_edge.to_edge_def())\n",
    "        if not is_replace:\n",
    "            return self.graph.edge_collection(_edge.edge_type)\n",
    "        return self.graph.replace_edge_definition(**_edge.to_edge_def())\n",
    "\n",
    "    @logger.catch(reraise=True)\n",
    "    def collection(\n",
    "        self, name: str = \"\", edge: Optional[Edge] = None, is_replace: bool = False\n",
    "    ):\n",
    "        if edge is not None:\n",
    "            return self.__get_edge_collection(edge, is_replace=is_replace)\n",
    "        return self.__get_collection(name)\n",
    "\n",
    "    def add_node(self, node: Node):\n",
    "        self.collection(node.kind).insert(node.to_dict())\n",
    "\n",
    "    def find_one_node(self, kind: str, tags: dict):\n",
    "        # logger.warning((kind, tags))\n",
    "        return CursorAccountant(curse=self.collection(kind).find(tags, limit=1))\n",
    "\n",
    "    def update_match(self, kind: str, tags: dict, vals: dict):\n",
    "        col = self.collection(kind)\n",
    "        col.update_match(tags, vals)\n",
    "        return CursorAccountant(curse=col.find(tags, limit=1))\n",
    "\n",
    "    @logger.catch(onerror=lambda x: (500, \"Very much now\"))\n",
    "    def get_adjacent(self, edge_query: EdgeQuery):\n",
    "        # Get the edges for a given node. We wrap the query information into an edge class.\n",
    "        query_node: Node = edge_query.start\n",
    "        element_container = self.find_one_node(query_node.kind, query_node.record)\n",
    "        logger.error(element_container)\n",
    "        element = element_container.element\n",
    "\n",
    "        # We pass the element id into a string query.\n",
    "        verticies = self.graph.traverse(start_vertex=element, direction=\"inbound\", vertex_uniqueness=\"global\", edge_uniqueness=\"global\", max_depth=1)\n",
    "        verticies_only = verticies.get(\"vertices\")\n",
    "        if len(verticies_only) > 1:\n",
    "            adjacent_node = verticies_only[-1]\n",
    "            return adjacent_node\n",
    "        return element_container\n",
    "\n",
    "    def add_edge(self, edge_info: Edge):\n",
    "        edge_col = self.collection(edge=edge_info)\n",
    "        find_start = self.find_one_node(*edge_info.find_from())\n",
    "        find_end = self.find_one_node(*edge_info.find_to())\n",
    "        edge_col.insert(\n",
    "            {\n",
    "                \"_key\": gen_hex_id(),\n",
    "                \"_from\": find_start.doc_id,\n",
    "                \"_to\": find_end.doc_id,\n",
    "                **edge_info.props,\n",
    "            }\n",
    "        )\n",
    "        return edge_col\n"
   ]
  },
  {
   "cell_type": "markdown",
   "metadata": {},
   "source": []
  },
  {
   "cell_type": "code",
   "execution_count": 3,
   "metadata": {},
   "outputs": [],
   "source": [
    "def ghex():\n",
    "    return uuid.uuid4().hex"
   ]
  },
  {
   "cell_type": "markdown",
   "metadata": {},
   "source": [
    "# Recreating the test\n",
    "\n",
    "Given I create two nodes \n",
    "I should be able to run a query on the graph. \n",
    "Get any node on the edge.\n"
   ]
  },
  {
   "cell_type": "code",
   "execution_count": 4,
   "metadata": {},
   "outputs": [],
   "source": [
    "_id = uuid.uuid4().hex\n",
    "os.environ[\"ARANOGO_DATABASE\"] = f\"GDADDYY_{_id[:5]}\"\n",
    "os.environ[\"ARANOGO_GRAPH_NAME\"] = f\"GRAPHY_{_id[:5]}\"\n"
   ]
  },
  {
   "cell_type": "markdown",
   "metadata": {},
   "source": [
    "# Core Enviornment Variables"
   ]
  },
  {
   "cell_type": "code",
   "execution_count": 5,
   "metadata": {},
   "outputs": [],
   "source": [
    "_g = uuid.uuid4().hex\n",
    "GRAPH_NAME = f\"testing_graph_{_g}\"\n",
    "NODE_KIND = f\"test_kind_{_g}\"\n",
    "NODE_BASE_NAME = f\"test_node_{_g}\"\n",
    "NODE_EXPLAINER = {\n",
    "    \"searchably\": \"rekted\", \n",
    "    \"is\": \"king\",\n",
    "    \"identity\": _g\n",
    "}"
   ]
  },
  {
   "cell_type": "code",
   "execution_count": 6,
   "metadata": {},
   "outputs": [],
   "source": [
    "graph_controller = GraphController()\n",
    "# node_one = Node(NODE_KIND, ghex(), NODE_EXPLAINER)\n",
    "\n",
    "# node_two = Node(NODE_KIND, ghex(), NODE_EXPLAINER)\n",
    "\n",
    "# graph_controller.add_node(node_one)\n",
    "# graph_controller.add_node(node_two)\n",
    "\n",
    "# edge_one = Edge(\n",
    "#     edge_type=\"test_edge_type\",\n",
    "#     start=node_one,\n",
    "#     end=node_two,\n",
    "#     props={\"hello\": \"world\"},\n",
    "# )\n",
    "\n",
    "# graph_controller.add_edge(edge_one)\n",
    "# graph_controller.get_adjacent(\n",
    "#     EdgeQuery(\n",
    "#         edge_type=\"test_edge_type\",\n",
    "#         start=node_one,\n",
    "#         props={\"hello\": \"world\"},\n",
    "#     )\n",
    "# )\n",
    "# assert True"
   ]
  },
  {
   "cell_type": "code",
   "execution_count": 7,
   "metadata": {},
   "outputs": [],
   "source": [
    "db = graph_controller.db\n",
    "if db.has_graph('school'):\n",
    "    school = db.graph('school')\n",
    "else:\n",
    "    school = db.create_graph('school')"
   ]
  },
  {
   "cell_type": "markdown",
   "metadata": {},
   "source": [
    "# Rethinking How I'm Testing This Idea Out\n",
    "The first thing I need to do is ensure I can still follow the main graph database instructions from the tutorial with my currently created database. If I can run a copy and paste job and follow the tutorial perfectly, I'd know if I'm in the right direction. I also should split my steps more to see if there are any params I can change."
   ]
  },
  {
   "cell_type": "code",
   "execution_count": 8,
   "metadata": {},
   "outputs": [],
   "source": [
    "if not school.has_edge_definition('teach'):\n",
    "    teach = school.create_edge_definition(\n",
    "        edge_collection='teach',\n",
    "        from_vertex_collections=['teachers'],\n",
    "        to_vertex_collections=['teachers']\n",
    "    )"
   ]
  },
  {
   "cell_type": "code",
   "execution_count": 9,
   "metadata": {},
   "outputs": [
    {
     "data": {
      "text/plain": "[{'edge_collection': 'teach',\n  'from_vertex_collections': ['teachers'],\n  'to_vertex_collections': ['lectures']}]"
     },
     "execution_count": 9,
     "metadata": {},
     "output_type": "execute_result"
    }
   ],
   "source": [
    "# List edge definitions.\n",
    "school.edge_definitions()"
   ]
  },
  {
   "cell_type": "code",
   "execution_count": 10,
   "metadata": {},
   "outputs": [
    {
     "data": {
      "text/plain": "<EdgeCollection teach>"
     },
     "execution_count": 10,
     "metadata": {},
     "output_type": "execute_result"
    }
   ],
   "source": [
    "school.replace_edge_definition(\n",
    "    edge_collection='teach',\n",
    "    from_vertex_collections=['teachers'],\n",
    "    to_vertex_collections=['lectures']\n",
    ")"
   ]
  },
  {
   "cell_type": "code",
   "execution_count": 11,
   "metadata": {},
   "outputs": [
    {
     "data": {
      "text/plain": "True"
     },
     "execution_count": 11,
     "metadata": {},
     "output_type": "execute_result"
    }
   ],
   "source": [
    "school.delete_edge_definition('teach', purge=True)"
   ]
  },
  {
   "cell_type": "code",
   "execution_count": 12,
   "metadata": {},
   "outputs": [],
   "source": [
    "# Create a new vertex collection named \"teachers\" if it does not exist.\n",
    "# This returns an API wrapper for \"teachers\" vertex collection.\n",
    "if school.has_vertex_collection('teachers'):\n",
    "    teachers = school.vertex_collection('teachers')\n",
    "else:\n",
    "    teachers = school.create_vertex_collection('teachers')"
   ]
  },
  {
   "cell_type": "code",
   "execution_count": 13,
   "metadata": {},
   "outputs": [
    {
     "data": {
      "text/plain": "['lectures', 'teachers']"
     },
     "execution_count": 13,
     "metadata": {},
     "output_type": "execute_result"
    }
   ],
   "source": [
    "school.vertex_collections()"
   ]
  },
  {
   "cell_type": "code",
   "execution_count": 14,
   "metadata": {},
   "outputs": [
    {
     "data": {
      "text/plain": "{'id': '4324834',\n 'name': 'teachers',\n 'system': False,\n 'smart': False,\n 'type': 2,\n 'edge': False,\n 'sync': False,\n 'status': 3,\n 'status_string': 'loaded',\n 'global_id': 'c4324834/',\n 'cache': False,\n 'replication_factor': 3,\n 'min_replication_factor': 1,\n 'write_concern': 1,\n 'shard_count': 1,\n 'shard_fields': ['_key'],\n 'shard_like': '_graphs',\n 'sharding_strategy': 'hash',\n 'key_options': {'key_generator': 'traditional', 'user_keys': True}}"
     },
     "execution_count": 14,
     "metadata": {},
     "output_type": "execute_result"
    }
   ],
   "source": [
    "teachers.properties()"
   ]
  },
  {
   "cell_type": "code",
   "execution_count": 15,
   "metadata": {},
   "outputs": [
    {
     "data": {
      "text/plain": "True"
     },
     "execution_count": 15,
     "metadata": {},
     "output_type": "execute_result"
    }
   ],
   "source": [
    "teachers.update({'_key': 'jon', 'age': 35})\n",
    "teachers.replace({'_key': 'jon', 'name': 'Jon', 'age': 36})\n",
    "teachers.get('jon')\n",
    "teachers.has('jon')"
   ]
  },
  {
   "cell_type": "code",
   "execution_count": 16,
   "metadata": {},
   "outputs": [],
   "source": [
    "# Get the API wrapper for edge collection \"teach\".\n",
    "if school.has_edge_definition('teach'):\n",
    "    teach = school.edge_collection('teach')\n",
    "else:\n",
    "    teach = school.create_edge_definition(\n",
    "        edge_collection='teach',\n",
    "        from_vertex_collections=['teachers'],\n",
    "        to_vertex_collections=['lectures']\n",
    "    )"
   ]
  },
  {
   "cell_type": "code",
   "execution_count": 17,
   "metadata": {},
   "outputs": [
    {
     "data": {
      "text/plain": "{'_key': 'CSC101',\n '_id': 'lectures/CSC101',\n '_rev': '_cIYti4q--B',\n 'difficulty': 'hard'}"
     },
     "execution_count": 17,
     "metadata": {},
     "output_type": "execute_result"
    }
   ],
   "source": [
    "if school.has_vertex_collection('lectures'):\n",
    "    school.vertex_collection('lectures')\n",
    "else:\n",
    "    school.create_vertex_collection('lectures')\n",
    "\n",
    "# The \"_id\" field is required instead of \"_key\" field (except for insert).\n",
    "school.update_vertex({'_id': 'lectures/CSC101', 'difficulty': 'easy'})\n",
    "school.replace_vertex({'_id': 'lectures/CSC101', 'difficulty': 'hard'})\n",
    "school.has_vertex('lectures/CSC101')\n",
    "school.vertex('lectures/CSC101')\n",
    "# school.delete_vertex('lectures/CSC101')"
   ]
  },
  {
   "cell_type": "code",
   "execution_count": 18,
   "metadata": {},
   "outputs": [],
   "source": [
    "def new_vertex():\n",
    "    pass"
   ]
  },
  {
   "cell_type": "code",
   "execution_count": 19,
   "metadata": {},
   "outputs": [
    {
     "data": {
      "text/plain": "{'_id': 'teach/jon-CSC101', '_key': 'jon-CSC101', '_rev': '_cIYtjJW--A'}"
     },
     "execution_count": 19,
     "metadata": {},
     "output_type": "execute_result"
    }
   ],
   "source": [
    "teach.insert({\n",
    "    '_key': 'jon-CSC101',\n",
    "    '_from': 'teachers/jon',\n",
    "    '_to': 'lectures/CSC101'\n",
    "})"
   ]
  },
  {
   "cell_type": "code",
   "execution_count": 20,
   "metadata": {},
   "outputs": [
    {
     "data": {
      "text/plain": "{'_id': 'lectures/CSC101',\n '_key': 'CSC101',\n '_rev': '_cIYtjO6--_',\n '_old_rev': '_cIYti4q--B'}"
     },
     "execution_count": 20,
     "metadata": {},
     "output_type": "execute_result"
    }
   ],
   "source": [
    "school.update_vertex({'_id': 'lectures/CSC101', 'difficulty': 'easy'})"
   ]
  },
  {
   "cell_type": "code",
   "execution_count": 21,
   "metadata": {},
   "outputs": [
    {
     "data": {
      "text/plain": "{'_id': 'lectures/CSC101',\n '_key': 'CSC101',\n '_rev': '_cIYtjTm--_',\n '_old_rev': '_cIYtjO6--_'}"
     },
     "execution_count": 21,
     "metadata": {},
     "output_type": "execute_result"
    }
   ],
   "source": [
    "school.replace_vertex({'_id': 'lectures/CSC101', 'difficulty': 'hard'})"
   ]
  },
  {
   "cell_type": "code",
   "execution_count": 22,
   "metadata": {},
   "outputs": [
    {
     "data": {
      "text/plain": "True"
     },
     "execution_count": 22,
     "metadata": {},
     "output_type": "execute_result"
    }
   ],
   "source": [
    "school.has_vertex('lectures/CSC101')"
   ]
  },
  {
   "cell_type": "code",
   "execution_count": 23,
   "metadata": {},
   "outputs": [
    {
     "data": {
      "text/plain": "{'_key': 'CSC101',\n '_id': 'lectures/CSC101',\n '_rev': '_cIYtjTm--_',\n 'difficulty': 'hard'}"
     },
     "execution_count": 23,
     "metadata": {},
     "output_type": "execute_result"
    }
   ],
   "source": [
    "school.vertex('lectures/CSC101')"
   ]
  },
  {
   "cell_type": "code",
   "execution_count": 24,
   "metadata": {},
   "outputs": [
    {
     "data": {
      "text/plain": "{'_id': 'teach/8330810', '_key': '8330810', '_rev': '_cIYtjcy--_'}"
     },
     "execution_count": 24,
     "metadata": {},
     "output_type": "execute_result"
    }
   ],
   "source": [
    "teach.link('teachers/jon', 'lectures/CSC101', data={'online': False})"
   ]
  },
  {
   "cell_type": "code",
   "execution_count": 25,
   "metadata": {},
   "outputs": [
    {
     "data": {
      "text/plain": "{'edges': [], 'stats': {'filtered': 0, 'scanned_index': 0}}"
     },
     "execution_count": 25,
     "metadata": {},
     "output_type": "execute_result"
    }
   ],
   "source": [
    "teach.edges('teachers/jon', direction='in')"
   ]
  },
  {
   "cell_type": "code",
   "execution_count": 26,
   "metadata": {},
   "outputs": [
    {
     "data": {
      "text/plain": "{'edges': [{'_key': 'jon-CSC101',\n   '_id': 'teach/jon-CSC101',\n   '_from': 'teachers/jon',\n   '_to': 'lectures/CSC101',\n   '_rev': '_cIYtjJW--A'},\n  {'_key': '8330810',\n   '_id': 'teach/8330810',\n   '_from': 'teachers/jon',\n   '_to': 'lectures/CSC101',\n   '_rev': '_cIYtjcy--_',\n   'online': False}],\n 'stats': {'filtered': 0, 'scanned_index': 2}}"
     },
     "execution_count": 26,
     "metadata": {},
     "output_type": "execute_result"
    }
   ],
   "source": [
    "teach.edges('teachers/jon', direction='out')"
   ]
  },
  {
   "cell_type": "markdown",
   "metadata": {},
   "source": [
    "# It's worked so far!!!!!\n",
    "\n",
    "Why it worked? I'm guessing because the query was actually right. It's easier to start with that assumption compared to the change of replication factor you just made. Now I'm gonna try pushing it a little. I'm gonna create a chain of verticies and see the overall depth of the edges query. Placing a recursive definition first."
   ]
  },
  {
   "cell_type": "code",
   "execution_count": 27,
   "metadata": {},
   "outputs": [],
   "source": [
    "def create_link(previous_node:dict=None):\n",
    "    if previous_node is None:\n",
    "        previous_node = school.insert_vertex('teachers', {'_key': ghex(), 'hello': f\"world-{ghex()}\"})\n",
    "    new_node = school.insert_vertex('teachers', {'_key': ghex(), 'goodbye': f\"world-{ghex()}\"})\n",
    "    teach.link(previous_node, new_node, data={'online': False})\n",
    "    return new_node"
   ]
  },
  {
   "cell_type": "code",
   "execution_count": 28,
   "metadata": {},
   "outputs": [],
   "source": [
    "if not school.has_edge_definition('teach'):\n",
    "    teach = school.create_edge_definition(\n",
    "        edge_collection='teach',\n",
    "        from_vertex_collections=['teachers'],\n",
    "        to_vertex_collections=['teachers']\n",
    "    )"
   ]
  },
  {
   "cell_type": "code",
   "execution_count": 29,
   "metadata": {},
   "outputs": [],
   "source": [
    "old = None\n",
    "for _ in range(10):\n",
    "    old = create_link(old)"
   ]
  },
  {
   "cell_type": "code",
   "execution_count": 30,
   "metadata": {},
   "outputs": [
    {
     "data": {
      "text/plain": "[{'_key': '8330822',\n  '_id': 'teach/8330822',\n  '_from': 'teachers/5ff301c649334346befe606922e2eff3',\n  '_to': 'teachers/db71bca5d61844b7af0a7acab702299c',\n  '_rev': '_cIYtlh2--A',\n  'online': False}]"
     },
     "execution_count": 30,
     "metadata": {},
     "output_type": "execute_result"
    }
   ],
   "source": [
    "teach.edges(old, direction=\"in\").get(\"edges\")"
   ]
  },
  {
   "cell_type": "code",
   "execution_count": 31,
   "metadata": {},
   "outputs": [
    {
     "data": {
      "text/plain": "{'_id': 'teachers/db71bca5d61844b7af0a7acab702299c',\n '_key': 'db71bca5d61844b7af0a7acab702299c',\n '_rev': '_cIYtlfy--_'}"
     },
     "execution_count": 31,
     "metadata": {},
     "output_type": "execute_result"
    }
   ],
   "source": [
    "old"
   ]
  },
  {
   "cell_type": "code",
   "execution_count": 32,
   "metadata": {},
   "outputs": [],
   "source": [
    "verticies = school.traverse(start_vertex=old, direction=\"inbound\", vertex_uniqueness=\"global\", edge_uniqueness=\"global\", max_depth=1)\n",
    "verticies_only = verticies.get(\"vertices\")\n",
    "assert len(verticies_only) > 1\n",
    "verticies_only[-1]"
   ]
  },
  {
   "cell_type": "code",
   "execution_count": null,
   "metadata": {},
   "outputs": [],
   "source": []
  },
  {
   "cell_type": "code",
   "execution_count": null,
   "metadata": {},
   "outputs": [],
   "source": []
  },
  {
   "cell_type": "markdown",
   "metadata": {},
   "source": [
    "# Hypothesis Testing"
   ]
  },
  {
   "cell_type": "code",
   "execution_count": null,
   "metadata": {},
   "outputs": [],
   "source": []
  },
  {
   "cell_type": "code",
   "execution_count": 35,
   "metadata": {},
   "outputs": [],
   "source": [
    "# from random import choice\n",
    "# from string import printable\n",
    "\n",
    "# from inflection import underscore, camelize, dasherize\n",
    "\n",
    "# from faker import Faker\n",
    "# from hypothesis import given\n",
    "# from hypothesis import strategies as st\n",
    "# from hypothesis.strategies import builds\n",
    "# from hypothesis.strategies import composite\n",
    "\n",
    "# from mangostar.utils import InsertParameters\n",
    "\n",
    "\n",
    "# fake_generator = Faker()\n"
   ]
  },
  {
   "cell_type": "code",
   "execution_count": 36,
   "metadata": {},
   "outputs": [],
   "source": [
    "# def random_title():\n",
    "#     available_generator_list = [\n",
    "#         \"color_name\",\n",
    "#         \"first_name\",\n",
    "#         \"language_name\",\n",
    "#         \"last_name\",\n",
    "#         \"city\",\n",
    "#         \"country\",\n",
    "#         \"street_name\",\n",
    "#         \"street_suffix\",\n",
    "#         \"credit_card_provider\",\n",
    "#     ]\n",
    "#     selected_attr: str = choice(available_generator_list)\n",
    "\n",
    "#     return underscore(dasherize(getattr(fake_generator, selected_attr)()))\n"
   ]
  },
  {
   "cell_type": "code",
   "execution_count": 37,
   "metadata": {},
   "outputs": [],
   "source": [
    "# random_title()"
   ]
  },
  {
   "cell_type": "code",
   "execution_count": 38,
   "metadata": {},
   "outputs": [],
   "source": [
    "# @composite\n",
    "# def complex_nested_dict(draw):\n",
    "#     title_path = builds(random_title)\n",
    "#     draw_keys = st.sampled_from(draw(st.lists(title_path, min_size=25)))\n",
    "#     # # st.sampled_from(draw(draw_keys))\n",
    "#     # # targets = st.none() | st.booleans() | st.floats() | st.text(printable, min_size=1) | draw_keys\n",
    "#     # # add_children = lambda children: st.lists(children, max_size=2) | st.dictionaries(\n",
    "#     # #     draw_keys, children, min_size=1\n",
    "#     # # )\n",
    "#     # rec_json = st.recursive(\n",
    "#     #     st.none() | st.booleans() | st.floats() | st.text(printable, min_size=1) | draw_keys,\n",
    "#     #     lambda children: st.lists(children, min_size=10) | st.dictionaries(draw_keys, children, min_size=20),\n",
    "#     # )\n",
    "#     # sample_one = st.dictionaries(\n",
    "#     #     st.sampled_from(draw(draw_keys)), targets, min_size=5\n",
    "#     # )\n",
    "#     # # sample_one.\n",
    "#     # sample_two = st.dictionaries(\n",
    "#     #     st.sampled_from(draw(draw_keys)), targets, min_size=5\n",
    "#     # )\n",
    "#     # # recurse_strategy = st.recursive(sample_dict(), sample_dict)\n",
    "#     # # recurse_strategy = st.recursive(st.booleans(), st.lists)\n",
    "#     return draw(draw_keys)\n",
    "#     # return draw(draw_keys)\n",
    "#     # return draw()\n",
    "# # .example()\n",
    "# namy = complex_nested_dict()"
   ]
  },
  {
   "cell_type": "code",
   "execution_count": 39,
   "metadata": {},
   "outputs": [],
   "source": [
    "# complex_nested_dict().example()"
   ]
  },
  {
   "cell_type": "code",
   "execution_count": 40,
   "metadata": {},
   "outputs": [],
   "source": [
    "# complex_nested_dict().example()"
   ]
  },
  {
   "cell_type": "code",
   "execution_count": 41,
   "metadata": {},
   "outputs": [],
   "source": [
    "# @composite\n",
    "# def extract_nested(draw):\n",
    "#     json = st.recursive(\n",
    "\n",
    "#         st.sampled_from([st.booleans(), st.floats() , namy , st.datetimes() , st.ip_addresses(), st.integers()]),\n",
    "\n",
    "#         lambda children: st.lists(children) | st.dictionaries(namy, draw(children))\n",
    "#     ).filter(lambda value: isinstance(value, (list, dict)))\n",
    "#     return json\n"
   ]
  },
  {
   "cell_type": "code",
   "execution_count": null,
   "metadata": {},
   "outputs": [],
   "source": []
  },
  {
   "cell_type": "code",
   "execution_count": 42,
   "metadata": {},
   "outputs": [],
   "source": [
    "# extract_nested().example()"
   ]
  },
  {
   "cell_type": "code",
   "execution_count": 43,
   "metadata": {},
   "outputs": [
    {
     "ename": "NameError",
     "evalue": "name 'st' is not defined",
     "output_type": "error",
     "traceback": [
      "\u001b[0;31m---------------------------------------------------------------------------\u001b[0m",
      "\u001b[0;31mNameError\u001b[0m                                 Traceback (most recent call last)",
      "\u001b[0;32m<ipython-input-43-6e4c489b38e6>\u001b[0m in \u001b[0;36m<module>\u001b[0;34m\u001b[0m\n\u001b[0;32m----> 1\u001b[0;31m \u001b[0mmain_types\u001b[0m \u001b[0;34m=\u001b[0m \u001b[0mst\u001b[0m\u001b[0;34m.\u001b[0m\u001b[0mone_of\u001b[0m\u001b[0;34m(\u001b[0m\u001b[0mst\u001b[0m\u001b[0;34m.\u001b[0m\u001b[0mbooleans\u001b[0m\u001b[0;34m(\u001b[0m\u001b[0;34m)\u001b[0m\u001b[0;34m,\u001b[0m \u001b[0mst\u001b[0m\u001b[0;34m.\u001b[0m\u001b[0mfloats\u001b[0m\u001b[0;34m(\u001b[0m\u001b[0;34m)\u001b[0m \u001b[0;34m,\u001b[0m \u001b[0mnamy\u001b[0m \u001b[0;34m,\u001b[0m \u001b[0mst\u001b[0m\u001b[0;34m.\u001b[0m\u001b[0mdatetimes\u001b[0m\u001b[0;34m(\u001b[0m\u001b[0;34m)\u001b[0m \u001b[0;34m,\u001b[0m \u001b[0mst\u001b[0m\u001b[0;34m.\u001b[0m\u001b[0mip_addresses\u001b[0m\u001b[0;34m(\u001b[0m\u001b[0;34m)\u001b[0m\u001b[0;34m)\u001b[0m\u001b[0;34m\u001b[0m\u001b[0;34m\u001b[0m\u001b[0m\n\u001b[0m",
      "\u001b[0;31mNameError\u001b[0m: name 'st' is not defined"
     ]
    }
   ],
   "source": [
    "main_types = st.one_of(st.booleans(), st.floats() , namy , st.datetimes() , st.ip_addresses())"
   ]
  },
  {
   "cell_type": "code",
   "execution_count": null,
   "metadata": {},
   "outputs": [
    {
     "data": {
      "text/plain": "{'jerry village': False,\n 'croatia': False,\n 'tunnel': False,\n 'ewe': False,\n 'parks': False}"
     },
     "execution_count": 84,
     "metadata": {},
     "output_type": "execute_result"
    }
   ],
   "source": [
    "st.dictionaries(namy, main_types, min_size=5).example()"
   ]
  },
  {
   "cell_type": "code",
   "execution_count": null,
   "metadata": {},
   "outputs": [],
   "source": []
  },
  {
   "cell_type": "code",
   "execution_count": null,
   "metadata": {},
   "outputs": [
    {
     "data": {
      "text/plain": "[None, None, None, None, None, None, None, None, None, None]"
     },
     "execution_count": 355,
     "metadata": {},
     "output_type": "execute_result"
    }
   ],
   "source": [
    "json.example()"
   ]
  }
 ],
 "metadata": {
  "kernelspec": {
   "display_name": "Python 3.8.8  ('.venv': venv)",
   "name": "pythonjvsc74a57bd089baf253333d9964ff8aa2ad64a2a5b697300ee75a9bc9c7bf2810d7abc68af0"
  },
  "language_info": {
   "codemirror_mode": {
    "name": "ipython",
    "version": 3
   },
   "file_extension": ".py",
   "mimetype": "text/x-python",
   "name": "python",
   "nbconvert_exporter": "python",
   "pygments_lexer": "ipython3",
   "version": "3.8.8"
  },
  "metadata": {
   "interpreter": {
    "hash": "89baf253333d9964ff8aa2ad64a2a5b697300ee75a9bc9c7bf2810d7abc68af0"
   }
  },
  "orig_nbformat": 2
 },
 "nbformat": 4,
 "nbformat_minor": 2
}