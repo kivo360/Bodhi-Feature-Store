{
 "cells": [
  {
   "cell_type": "code",
   "execution_count": 3,
   "metadata": {},
   "outputs": [],
   "source": [
    "from pydantic import BaseModel\n",
    "from typing import Optional\n",
    "from dataclasses import dataclass\n",
    "from pydantic import BaseModel, Field\n",
    "# from pydantic.dataclasses import dataclass\n",
    "import uuid\n",
    "import abc\n",
    "from stringcase import snakecase\n",
    "from genson import SchemaBuilder \n",
    "from cytoolz import curry\n",
    "from loguru import logger\n",
    "from faker import Faker\n",
    "import random\n",
    "from enum import Enum\n",
    "from bodhi_server import ModuleSettings\n"
   ]
  },
  {
   "cell_type": "code",
   "execution_count": 5,
   "metadata": {},
   "outputs": [],
   "source": [
    "from arango import ArangoClient"
   ]
  },
  {
   "cell_type": "code",
   "execution_count": 8,
   "metadata": {},
   "outputs": [],
   "source": [
    "settings = ModuleSettings()"
   ]
  },
  {
   "cell_type": "code",
   "execution_count": 9,
   "metadata": {},
   "outputs": [
    {
     "data": {
      "text/plain": "'https://d997f59f427a.arangodb.cloud:8529'"
     },
     "execution_count": 9,
     "metadata": {},
     "output_type": "execute_result"
    }
   ],
   "source": [
    "settings.arango_host"
   ]
  },
  {
   "cell_type": "code",
   "execution_count": null,
   "metadata": {},
   "outputs": [],
   "source": [
    "client = ArangoClient(hosts=settings.arango_host)\n",
    "sys_db = client.db('_system', username='root', password=settings.arangoo.password)\n",
    "if not sys_db.has_database('test'):\n",
    "    sys_db.create_database('test')\n",
    "db = client.db('test', username='root', password='openSesame')"
   ]
  }
 ],
 "metadata": {
  "kernelspec": {
   "display_name": "Python 3.8.8 64-bit ('.venv': venv)",
   "name": "python388jvsc74a57bd089baf253333d9964ff8aa2ad64a2a5b697300ee75a9bc9c7bf2810d7abc68af0"
  },
  "language_info": {
   "codemirror_mode": {
    "name": "ipython",
    "version": 3
   },
   "file_extension": ".py",
   "mimetype": "text/x-python",
   "name": "python",
   "nbconvert_exporter": "python",
   "pygments_lexer": "ipython3",
   "version": "3.8.8"
  },
  "orig_nbformat": 2
 },
 "nbformat": 4,
 "nbformat_minor": 2
}