{
 "cells": [
  {
   "cell_type": "code",
   "execution_count": 1,
   "metadata": {},
   "outputs": [],
   "source": [
    "from genson import SchemaBuilder\n",
    "import ccxt\n",
    "from copy import deepcopy\n",
    "import uuid\n",
    "from random import randint, sample"
   ]
  },
  {
   "cell_type": "code",
   "execution_count": 2,
   "metadata": {},
   "outputs": [],
   "source": [
    "def get_uuids(vals: int):\n",
    "    return [uuid.uuid4().hex for _ in range(vals)]"
   ]
  },
  {
   "cell_type": "code",
   "execution_count": 3,
   "metadata": {},
   "outputs": [],
   "source": [
    "fid = uuid.uuid4().hex\n",
    "existing_ids = get_uuids(30)"
   ]
  },
  {
   "cell_type": "code",
   "execution_count": 4,
   "metadata": {},
   "outputs": [],
   "source": [
    "nested_pids = sample(existing_ids, 7)"
   ]
  },
  {
   "cell_type": "code",
   "execution_count": 5,
   "metadata": {},
   "outputs": [],
   "source": [
    "nested_set = {k: get_uuids(randint(4, 12))for k in nested_pids}"
   ]
  },
  {
   "cell_type": "code",
   "execution_count": 6,
   "metadata": {},
   "outputs": [],
   "source": [
    "# {fid: existing_ids, **nested_set}"
   ]
  },
  {
   "cell_type": "code",
   "execution_count": null,
   "metadata": {},
   "outputs": [],
   "source": []
  },
  {
   "cell_type": "code",
   "execution_count": 7,
   "metadata": {},
   "outputs": [
    {
     "name": "stdout",
     "output_type": "stream",
     "text": [
      "Hello world\n"
     ]
    }
   ],
   "source": [
    "print(\"Hello world\")"
   ]
  },
  {
   "cell_type": "code",
   "execution_count": 8,
   "metadata": {},
   "outputs": [],
   "source": [
    "binance = ccxt.binance()\n",
    "markets = binance.load_markets()\n",
    "# Requisite setup step\n"
   ]
  },
  {
   "cell_type": "code",
   "execution_count": 9,
   "metadata": {},
   "outputs": [],
   "source": [
    "import json\n",
    "from datetime import datetime\n",
    "from pydantic import BaseModel, Field\n",
    "from typing import List\n",
    "import random\n",
    "import httpx"
   ]
  },
  {
   "cell_type": "code",
   "execution_count": 10,
   "metadata": {},
   "outputs": [],
   "source": [
    "class Candle(BaseModel):\n",
    "    _open: Field(..., alias =\"open\")\n",
    "    high: float\n",
    "    low: float\n",
    "    close: float\n",
    "    volume: float\n",
    "    timestamp: datetime"
   ]
  },
  {
   "cell_type": "code",
   "execution_count": 11,
   "metadata": {},
   "outputs": [],
   "source": [
    "class Candles(BaseModel):\n",
    "    candles: List[Candle] = []"
   ]
  },
  {
   "cell_type": "code",
   "execution_count": null,
   "metadata": {},
   "outputs": [],
   "source": []
  },
  {
   "cell_type": "code",
   "execution_count": null,
   "metadata": {},
   "outputs": [],
   "source": []
  },
  {
   "cell_type": "code",
   "execution_count": 12,
   "metadata": {
    "tags": []
   },
   "outputs": [],
   "source": [
    "pair = 'ETH/USDT'\n",
    "ohlcv = binance.fetch_ohlcv(pair, '1d')\n",
    "candles = [Candle(timestamp=candle[0], open=candle[1], high=candle[2], low=candle[3], close=candle[4],volume=candle[-1]) for candle in ohlcv]\n",
    "candy = Candles(candles=candles)"
   ]
  },
  {
   "cell_type": "code",
   "execution_count": 13,
   "metadata": {},
   "outputs": [
    {
     "data": {
      "text/plain": "{'high': 127.84,\n 'low': 123.07,\n 'close': 125.09,\n 'volume': 225004.4909,\n 'timestamp': datetime.datetime(2019, 12, 25, 0, 0, tzinfo=datetime.timezone.utc)}"
     },
     "execution_count": 13,
     "metadata": {},
     "output_type": "execute_result"
    }
   ],
   "source": [
    "random.choice(candy.candles).dict()"
   ]
  },
  {
   "cell_type": "code",
   "execution_count": 14,
   "metadata": {},
   "outputs": [],
   "source": [
    "import orjson"
   ]
  },
  {
   "cell_type": "code",
   "execution_count": 57,
   "metadata": {},
   "outputs": [],
   "source": [
    "evnt_at = random.choice(candy.candles)\n",
    "resp = httpx.post('http://127.0.0.1:8000/record/insert', content=orjson.dumps({\"data\": evnt_at.dict(), \"bucket\": \"super_candle\", \"event_at\": evnt_at.timestamp, \"tags\": {\"hello\": \"world\"}}).decode())"
   ]
  },
  {
   "cell_type": "code",
   "execution_count": 43,
   "metadata": {},
   "outputs": [],
   "source": [
    "# json.dumps(ohlcv)"
   ]
  },
  {
   "cell_type": "code",
   "execution_count": 44,
   "metadata": {},
   "outputs": [],
   "source": [
    "# straight_market_builder = SchemaBuilder()\n",
    "# straight_market_builder.add_object(test_market)"
   ]
  },
  {
   "cell_type": "code",
   "execution_count": 45,
   "metadata": {},
   "outputs": [],
   "source": [
    "# market_builder = SchemaBuilder()\n",
    "# market_builder.add_object(test_market_removed)"
   ]
  },
  {
   "cell_type": "code",
   "execution_count": 46,
   "metadata": {},
   "outputs": [],
   "source": [
    "# market_builder.add_object(test_market)\n",
    "# market_builder.to_json()"
   ]
  },
  {
   "cell_type": "code",
   "execution_count": 47,
   "metadata": {},
   "outputs": [],
   "source": [
    "# straight_market_builder.to_schema()"
   ]
  },
  {
   "cell_type": "code",
   "execution_count": 48,
   "metadata": {},
   "outputs": [],
   "source": [
    "# market_schema = market_builder.to_schema()"
   ]
  },
  {
   "cell_type": "code",
   "execution_count": null,
   "metadata": {},
   "outputs": [],
   "source": []
  },
  {
   "cell_type": "code",
   "execution_count": 49,
   "metadata": {},
   "outputs": [],
   "source": [
    "# market_schema"
   ]
  },
  {
   "cell_type": "code",
   "execution_count": 50,
   "metadata": {},
   "outputs": [],
   "source": [
    "# builder = SchemaBuilder()\n",
    "# builder.add_schema({\"type\": \"object\", \"properties\": {}})\n",
    "# builder.add_object({\"hi\": \"there\"})\n",
    "# builder.add_object({\"hi\": 5})\n",
    "# builder.to_schema()"
   ]
  },
  {
   "cell_type": "code",
   "execution_count": 51,
   "metadata": {},
   "outputs": [],
   "source": [
    "# b1 = SchemaBuilder()\n",
    "# b2 = SchemaBuilder()\n",
    "# b1.add_schema({\"type\": \"object\", \"properties\": {\"hi\": {\"type\": \"string\"}}})\n",
    "# b2.add_schema({\"type\": \"object\", \"properties\": {\"hi\": {\"type\": \"integer\"}}})\n",
    "# b1 == b2"
   ]
  },
  {
   "cell_type": "code",
   "execution_count": 52,
   "metadata": {},
   "outputs": [],
   "source": [
    "# b1.add_schema(b2)\n",
    "# b2.add_schema(b1)"
   ]
  },
  {
   "cell_type": "code",
   "execution_count": 15,
   "metadata": {},
   "outputs": [],
   "source": [
    "# b1 == b2"
   ]
  },
  {
   "cell_type": "code",
   "execution_count": 5,
   "metadata": {},
   "outputs": [],
   "source": [
    "import uuid\n",
    "from datetime import datetime\n",
    "from mangostar.clients.faas import FaaSClient"
   ]
  },
  {
   "cell_type": "code",
   "execution_count": 6,
   "metadata": {},
   "outputs": [],
   "source": [
    "faas_cli = FaaSClient()"
   ]
  },
  {
   "cell_type": "code",
   "execution_count": 10,
   "metadata": {},
   "outputs": [],
   "source": [
    "cake_item = {\n",
    "    \"bucket\": \"bakery_inventory\",\n",
    "    \"data\": {\n",
    "\t\"id\": \"0001\",\n",
    "\t\"type\": \"donut\",\n",
    "\t\"name\": \"Cake\",\n",
    "\t\"ppu\": 0.55,\n",
    "\t\"batters\":\n",
    "\t\t{\n",
    "\t\t\t\"batter\":\n",
    "\t\t\t\t[\n",
    "\t\t\t\t\t{ \"id\": \"1001\", \"type\": \"Regular\" },\n",
    "\t\t\t\t\t{ \"id\": \"1002\", \"type\": \"Chocolate\" },\n",
    "\t\t\t\t\t{ \"id\": \"1003\", \"type\": \"Blueberry\" },\n",
    "\t\t\t\t\t{ \"id\": \"1004\", \"type\": \"Devil's Food\" }\n",
    "\t\t\t\t]\n",
    "\t\t},\n",
    "\t\"topping\":\n",
    "\t\t[\n",
    "\t\t\t{ \"id\": \"5001\", \"type\": \"None\" },\n",
    "\t\t\t{ \"id\": \"5002\", \"type\": \"Glazed\" },\n",
    "\t\t\t{ \"id\": \"5005\", \"type\": \"Sugar\" },\n",
    "\t\t\t{ \"id\": \"5007\", \"type\": \"Powdered Sugar\" },\n",
    "\t\t\t{ \"id\": \"5006\", \"type\": \"Chocolate with Sprinkles\" },\n",
    "\t\t\t{ \"id\": \"5003\", \"type\": \"Chocolate\" },\n",
    "\t\t\t{ \"id\": \"5004\", \"type\": \"Maple\" }\n",
    "\t\t]\n",
    "},\n",
    "\"event_at\": datetime.now(),\n",
    "\"tags\": {\"store_name\": \"shoeberry bakery\", \"city\": \"los angeles\", \"state\": \"california\", \"id\": uuid.uuid4().hex}\n",
    "}\n",
    "\n"
   ]
  },
  {
   "cell_type": "code",
   "execution_count": 13,
   "metadata": {},
   "outputs": [],
   "source": [
    "from pydantic import BaseModel\n",
    "from typing import Dict"
   ]
  },
  {
   "cell_type": "code",
   "execution_count": 20,
   "metadata": {},
   "outputs": [],
   "source": [
    "class RequestModel(BaseModel):\n",
    "    data: Dict"
   ]
  },
  {
   "cell_type": "code",
   "execution_count": 22,
   "metadata": {},
   "outputs": [],
   "source": [
    "from datetime import datetime\n",
    "from typing import Any, Dict, Optional\n",
    "\n",
    "from addict import Addict as DDict\n",
    "from fastapi import FastAPI, HTTPException\n",
    "from inflection import tableize\n",
    "from loguru import logger\n",
    "from mangostar import commands as comms\n",
    "from mangostar.circular import DBResponse\n",
    "# from mangostar.mangostar import commands as comm\n",
    "from pydantic import BaseModel, root_validator\n"
   ]
  },
  {
   "cell_type": "code",
   "execution_count": 27,
   "metadata": {},
   "outputs": [],
   "source": [
    "class InsertableRecord(BaseModel):\n",
    "    data: Dict[str, Any]\n",
    "    event_at: datetime = datetime.now()\n",
    "    bucket: Optional[str]\n",
    "    tags: Dict[str, Any] = {}\n",
    "\n",
    "    @root_validator\n",
    "    def check_bucket(cls, values: dict):\n",
    "        doti = DDict(**values)\n",
    "        buck = doti.bucket\n",
    "        if buck:\n",
    "            doti.bucket = tableize(buck)\n",
    "            return doti.to_dict()\n",
    "\n",
    "        if \"bucket\" not in doti.data.keys():\n",
    "            raise ValueError(\"Bucket not added.\")\n",
    "\n",
    "        nested_bucket = doti.data.bucket\n",
    "        if not isinstance(nested_bucket, str):\n",
    "            raise TypeError(\n",
    "                \"A bucket was found in 'data' but it wasn't the right type.\")\n",
    "        doti.data.pop(\"bucket\", None)\n",
    "\n",
    "        doti.bucket = str(nested_bucket)\n",
    "        return doti.to_dict()"
   ]
  },
  {
   "cell_type": "code",
   "execution_count": 8,
   "metadata": {},
   "outputs": [
    {
     "data": {
      "text/plain": "<Response [500 Internal Server Error]>"
     },
     "execution_count": 8,
     "metadata": {},
     "output_type": "execute_result"
    }
   ],
   "source": [
    "faas_cli(data=cake_item, name=\"poopyy\")"
   ]
  },
  {
   "cell_type": "code",
   "execution_count": 22,
   "metadata": {},
   "outputs": [
    {
     "name": "stdout",
     "output_type": "stream",
     "text": [
      "{\"bucket\":\"bakery_inventory\",\"data\":{\"id\":\"0001\",\"type\":\"donut\",\"name\":\"Cake\",\"ppu\":0.55,\"batters\":{\"batter\":[{\"id\":\"1001\",\"type\":\"Regular\"},{\"id\":\"1002\",\"type\":\"Chocolate\"},{\"id\":\"1003\",\"type\":\"Blueberry\"},{\"id\":\"1004\",\"type\":\"Devil's Food\"}]},\"topping\":[{\"id\":\"5001\",\"type\":\"None\"},{\"id\":\"5002\",\"type\":\"Glazed\"},{\"id\":\"5005\",\"type\":\"Sugar\"},{\"id\":\"5007\",\"type\":\"Powdered Sugar\"},{\"id\":\"5006\",\"type\":\"Chocolate with Sprinkles\"},{\"id\":\"5003\",\"type\":\"Chocolate\"},{\"id\":\"5004\",\"type\":\"Maple\"}]},\"event_at\":\"2021-03-19T20:55:31.193031\",\"tags\":{\"store_name\":\"shoeberry bakery\",\"city\":\"los angeles\",\"state\":\"california\",\"id\":\"7a1dc891b61649f59448cc02ba586278\"}}\n"
     ]
    }
   ],
   "source": [
    "resp:str = orjson.dumps(cake_item).decode('utf-8')\n",
    "\n",
    "\n",
    "\n",
    "open(\"\", \"+w\")"
   ]
  },
  {
   "cell_type": "code",
   "execution_count": null,
   "metadata": {},
   "outputs": [],
   "source": [
    "resp:str = orjson.dumps(cake_item).decode('utf-8')\n",
    "\n",
    "print(resp)"
   ]
  },
  {
   "cell_type": "code",
   "execution_count": 16,
   "metadata": {},
   "outputs": [],
   "source": [
    "from mangostar import commands as comm\n",
    "from datetime import datetime\n",
    "import uuid\n",
    "cake_item = {\n",
    "    \"bucket\": \"bakery_inventory\",\n",
    "    \"data\": {\n",
    "    \"id\": \"0001\",\n",
    "    \"type\": \"donut\",\n",
    "    \"name\": \"Cake\",\n",
    "    \"ppu\": 0.55,\n",
    "    \"batters\":\n",
    "            {\n",
    "                    \"batter\":\n",
    "                            [\n",
    "                                    { \"id\": \"1001\", \"type\": \"Regular\" },\n",
    "                                    { \"id\": \"1002\", \"type\": \"Chocolate\" },\n",
    "                                    { \"id\": \"1003\", \"type\": \"Blueberry\" },\n",
    "                                    { \"id\": \"1004\", \"type\": \"Devil's Food\" }\n",
    "                            ]\n",
    "            },\n",
    "        \"topping\":\n",
    "            [\n",
    "                    { \"id\": \"5001\", \"type\": \"None\" },\n",
    "                    { \"id\": \"5002\", \"type\": \"Glazed\" },\n",
    "                    { \"id\": \"5005\", \"type\": \"Sugar\" },\n",
    "                    { \"id\": \"5007\", \"type\": \"Powdered Sugar\" },\n",
    "                    { \"id\": \"5006\", \"type\": \"Chocolate with Sprinkles\" },\n",
    "                    { \"id\": \"5003\", \"type\": \"Chocolate\" },\n",
    "                    { \"id\": \"5004\", \"type\": \"Maple\" }\n",
    "            ]\n",
    "        },\n",
    "        \"event_at\": datetime.now(),\n",
    "        \"tags\": {\"store_name\": \"shoeberry bakery\", \"city\": \"los angeles\", \"state\": \"california\", \"id\": uuid.uuid4().hex}\n",
    "}"
   ]
  },
  {
   "cell_type": "code",
   "execution_count": 24,
   "metadata": {},
   "outputs": [],
   "source": [
    "req = RequestModel(data=cake_item)"
   ]
  },
  {
   "cell_type": "code",
   "execution_count": 30,
   "metadata": {},
   "outputs": [
    {
     "data": {
      "text/plain": "{'bucket': 'bakery_inventory',\n 'data': {'id': '0001',\n  'type': 'donut',\n  'name': 'Cake',\n  'ppu': 0.55,\n  'batters': {'batter': [{'id': '1001', 'type': 'Regular'},\n    {'id': '1002', 'type': 'Chocolate'},\n    {'id': '1003', 'type': 'Blueberry'},\n    {'id': '1004', 'type': \"Devil's Food\"}]},\n  'topping': [{'id': '5001', 'type': 'None'},\n   {'id': '5002', 'type': 'Glazed'},\n   {'id': '5005', 'type': 'Sugar'},\n   {'id': '5007', 'type': 'Powdered Sugar'},\n   {'id': '5006', 'type': 'Chocolate with Sprinkles'},\n   {'id': '5003', 'type': 'Chocolate'},\n   {'id': '5004', 'type': 'Maple'}]},\n 'event_at': datetime.datetime(2021, 3, 20, 14, 13, 32, 647050),\n 'tags': {'store_name': 'shoeberry bakery',\n  'city': 'los angeles',\n  'state': 'california',\n  'id': '679861c10188459c89547ee2ee973790'}}"
     },
     "execution_count": 30,
     "metadata": {},
     "output_type": "execute_result"
    }
   ],
   "source": [
    "req.data"
   ]
  },
  {
   "cell_type": "code",
   "execution_count": 31,
   "metadata": {},
   "outputs": [],
   "source": [
    "import orjson"
   ]
  },
  {
   "cell_type": "code",
   "execution_count": 34,
   "metadata": {},
   "outputs": [],
   "source": [
    "insertable = InsertableRecord(**orjson.loads(orjson.dumps(req.data)))"
   ]
  },
  {
   "cell_type": "code",
   "execution_count": 35,
   "metadata": {},
   "outputs": [
    {
     "data": {
      "text/plain": "DBResponse(status=False, data={}, message='Failed to add record somewhere along the way.')"
     },
     "execution_count": 35,
     "metadata": {},
     "output_type": "execute_result"
    }
   ],
   "source": [
    "comm.insert_dict(**insertable.dict())"
   ]
  },
  {
   "cell_type": "code",
   "execution_count": null,
   "metadata": {},
   "outputs": [],
   "source": []
  },
  {
   "cell_type": "code",
   "execution_count": null,
   "metadata": {},
   "outputs": [],
   "source": []
  }
 ],
 "metadata": {
  "kernelspec": {
   "display_name": "Python 3.8.5 64-bit",
   "language": "python",
   "name": "python385jvsc74a57bd086b938f2ea90ca35d0be045a4409f7ab8156854ecb08b8f561968857f108c46f"
  },
  "language_info": {
   "codemirror_mode": {
    "name": "ipython",
    "version": 3
   },
   "file_extension": ".py",
   "mimetype": "text/x-python",
   "name": "python",
   "nbconvert_exporter": "python",
   "pygments_lexer": "ipython3",
   "version": "3.8.5"
  },
  "orig_nbformat": 2
 },
 "nbformat": 4,
 "nbformat_minor": 2
}