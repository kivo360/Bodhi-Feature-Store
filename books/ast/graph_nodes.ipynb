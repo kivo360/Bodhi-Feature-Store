{
 "cells": [
  {
   "cell_type": "code",
   "execution_count": 215,
   "metadata": {},
   "outputs": [],
   "source": [
    "import abc\n",
    "import json\n",
    "import addict as adt\n",
    "from pydantic import validator, root_validator\n",
    "from pydantic import BaseModel\n",
    "import networkx as nx\n",
    "from typing import Any, List, Union, Optional\n",
    "from inflection import underscore, camelize, tableize"
   ]
  },
  {
   "cell_type": "code",
   "execution_count": 225,
   "metadata": {},
   "outputs": [],
   "source": [
    "class Node(abc.ABC):\n",
    "    def __init__(self, _node_type:str, name:Optional[str]=None, is_entity: bool=False, **attrs):\n",
    "        self._node_type: str = _node_type\n",
    "        # Value represents a, Optionalnything important that we need to regularly access\n",
    "        self._value: Any = None\n",
    "        self._parent: Union['Node'] = None\n",
    "        self._is_entity = is_entity\n",
    "        self._name = name\n",
    "        self._attrs = attrs\n",
    "        \n",
    "    @property\n",
    "    def name(self) -> str:\n",
    "        return self._name or underscore(self.__class__.__name__)\n",
    "\n",
    "    @property\n",
    "    def props(self) -> dict:\n",
    "        return self._attrs\n",
    "\n",
    "    @property\n",
    "    def is_entity(self):\n",
    "        return self._is_entity\n",
    "\n",
    "    @property\n",
    "    def parent(self):\n",
    "        return self._parent\n",
    "\n",
    "    \n",
    "    @parent.setter\n",
    "    def parent(self, _parent: 'Node'):\n",
    "        self._parent = _parent\n",
    "        \n",
    "    @property\n",
    "    def graph_repr(self) -> adt.Dict:\n",
    "        graph_repr = adt.Dict()\n",
    "        graph_repr.name = self.name\n",
    "        graph_repr.attrs = adt.Dict(**self._attrs)\n",
    "        graph_repr.attrs.node_type = self.ntype\n",
    "        if self.value:\n",
    "            graph_repr.attrs.node_value = self.value\n",
    "        return graph_repr\n",
    "\n",
    "    @property\n",
    "    def ntype(self) -> str:\n",
    "        return underscore(self._node_type).lower()\n",
    "\n",
    "    \n",
    "\n",
    "    @property\n",
    "    def value(self):\n",
    "        return self._value\n",
    "\n",
    "    \n",
    "    @value.setter\n",
    "    def value(self, _value):\n",
    "        self._value = _value\n",
    "\n",
    "    \n",
    "    def add_props(self, **attrs):\n",
    "        self._attrs.update(attrs)\n",
    "\n",
    "    def __repr__(self) -> str:\n",
    "        return f\"{camelize(self.ntype)}({self.name}, parent={self.parent})\"\n",
    "\n",
    "    @abc.abstractmethod\n",
    "    def add(self, node: 'Node'):\n",
    "        raise NotImplementedError\n",
    "\n",
    "    \n",
    "    "
   ]
  },
  {
   "cell_type": "code",
   "execution_count": null,
   "metadata": {},
   "outputs": [],
   "source": []
  },
  {
   "cell_type": "code",
   "execution_count": 232,
   "metadata": {},
   "outputs": [],
   "source": [
    "class System(Node):\n",
    "    def __init__(self):\n",
    "        super().__init__(\"system\", is_entity=False)\n",
    "        self.value = nx.DiGraph(name=self.name)\n",
    "\n",
    "    @property\n",
    "    def net(self) -> nx.DiGraph:\n",
    "        return self.value\n",
    "\n",
    "    def get_node(self, node: 'Subsystem'):\n",
    "        return self.net.nodes[node.name]\n",
    "\n",
    "    def add(self, node: 'Subsystem', **edges):\n",
    "        node.system = self\n",
    "        rep = node.graph_repr\n",
    "        self.net.add_node(rep.name, **rep.attrs.to_dict())\n",
    "        if node.parent:\n",
    "            self.net.add_edge(node.parent.name, node.name, **edges)\n",
    "        \n",
    "\n",
    "    \n",
    "    def to_dict(self):\n",
    "        return json.loads(nx.jit_data(self.net))\n",
    "\n"
   ]
  },
  {
   "cell_type": "code",
   "execution_count": 236,
   "metadata": {},
   "outputs": [],
   "source": [
    "class Subsystem(Node):\n",
    "    def __init__(self, _node_type: str, name: Optional[str]=None, is_entity: bool=False, **attrs):\n",
    "        super().__init__(_node_type, name=name, is_entity=is_entity, **attrs)\n",
    "\n",
    "    @property\n",
    "    def system(self) -> System:\n",
    "        if not self._system: raise AttributeError(\"The system hasn't been set yet\")\n",
    "        return self._system\n",
    "    \n",
    "\n",
    "    @system.setter\n",
    "    def system(self, _system: System) -> None:\n",
    "        self._system = _system\n",
    "    \n",
    "\n",
    "    def add(self, node: 'Subsystem', **edge_props:dict):\n",
    "\n",
    "        node.parent = self\n",
    "        node.system = self.system\n",
    "        self.system.add(node, **edge_props)\n",
    "        return node\n",
    "        \n",
    "    \n",
    "\n",
    "class Entity(Subsystem):\n",
    "    def __init__(self, _type, name: Optional[str]=None, **attrs):\n",
    "        _ttype = _type or tableize(self.name)\n",
    "        super().__init__(_ttype, is_entity=True, name=name, **attrs)\n",
    "\n",
    "\n",
    "class Component(Subsystem):\n",
    "    def __init__(self, _type: str = \"component\", name: Optional[str]=None, **attrs):\n",
    "        super().__init__(_type, is_entity=False, name=name, **attrs)\n",
    "\n",
    "\n",
    "class Field(Component):\n",
    "    def __init__(self, field_type:str, aggregate:str=\"sum\", **attrs):\n",
    "        super().__init__(\"field\", **attrs)\n",
    "        self.add_props(field_type=field_type, aggregate=aggregate.upper())\n",
    "        \n",
    "\n",
    "\n",
    "    @property\n",
    "    def field_type(self) -> str:\n",
    "        return self.graph_repr.field_type\n",
    "    \n",
    "\n",
    "    def create(self, field_name:str):\n",
    "        self._name = field_name\n",
    "        return self\n",
    "\n",
    "\n",
    "\n",
    "class Table(Entity):\n",
    "    def __init__(self, table_name: str, **attrs):\n",
    "        super().__init__(\"table\", name=table_name, **attrs)\n",
    "\n",
    "    \n",
    "    @property\n",
    "    def name(self) -> str:\n",
    "        return tableize(self._name) or tableize(self.__class__.__name__)"
   ]
  },
  {
   "cell_type": "code",
   "execution_count": 1,
   "metadata": {},
   "outputs": [
    {
     "ename": "NameError",
     "evalue": "name 'System' is not defined",
     "output_type": "error",
     "traceback": [
      "\u001b[0;31m---------------------------------------------------------------------------\u001b[0m",
      "\u001b[0;31mNameError\u001b[0m                                 Traceback (most recent call last)",
      "\u001b[0;32m<ipython-input-1-42b239b4757d>\u001b[0m in \u001b[0;36m<module>\u001b[0;34m\u001b[0m\n\u001b[1;32m      1\u001b[0m \u001b[0;31m# TODO: Create a global pattern to create table if not exist in multiple places. Can also be used for the node iteration.\u001b[0m\u001b[0;34m\u001b[0m\u001b[0;34m\u001b[0m\u001b[0;34m\u001b[0m\u001b[0m\n\u001b[0;32m----> 2\u001b[0;31m \u001b[0mmain_system\u001b[0m \u001b[0;34m=\u001b[0m \u001b[0mSystem\u001b[0m\u001b[0;34m(\u001b[0m\u001b[0;34m)\u001b[0m\u001b[0;34m\u001b[0m\u001b[0;34m\u001b[0m\u001b[0m\n\u001b[0m\u001b[1;32m      3\u001b[0m \u001b[0muser_table\u001b[0m \u001b[0;34m=\u001b[0m \u001b[0mTable\u001b[0m\u001b[0;34m(\u001b[0m\u001b[0;34m\"user\"\u001b[0m\u001b[0;34m)\u001b[0m\u001b[0;34m\u001b[0m\u001b[0;34m\u001b[0m\u001b[0m\n\u001b[1;32m      4\u001b[0m \u001b[0mint_field\u001b[0m \u001b[0;34m=\u001b[0m \u001b[0mField\u001b[0m\u001b[0;34m(\u001b[0m\u001b[0;34m\"INT\"\u001b[0m\u001b[0;34m,\u001b[0m \u001b[0;34m\"MODE\"\u001b[0m\u001b[0;34m)\u001b[0m\u001b[0;34m\u001b[0m\u001b[0;34m\u001b[0m\u001b[0m\n\u001b[1;32m      5\u001b[0m \u001b[0;31m# main_system.add(user_table)\u001b[0m\u001b[0;34m\u001b[0m\u001b[0;34m\u001b[0m\u001b[0;34m\u001b[0m\u001b[0m\n",
      "\u001b[0;31mNameError\u001b[0m: name 'System' is not defined"
     ]
    }
   ],
   "source": [
    "# TODO: Create a global pattern to create table if not exist in multiple places. Can also be used for the node iteration.\n",
    "main_system = System()\n",
    "user_table = Table(\"user\")\n",
    "int_field = Field(\"INT\", \"MODE\")\n",
    "main_system.add(user_table)\n",
    "user_table.add(int_field.create(\"age\"), rel_type=\"field_of\")\n",
    "user_table.system.to_dict()"
   ]
  },
  {
   "cell_type": "code",
   "execution_count": 238,
   "metadata": {},
   "outputs": [
    {
     "data": {
      "text/plain": "[{'id': 'users',\n  'name': 'users',\n  'data': {'node_type': 'table'},\n  'adjacencies': [{'nodeTo': 'age', 'data': {'rel_type': 'field_of'}}]},\n {'id': 'age',\n  'name': 'age',\n  'data': {'field_type': 'INT', 'aggregate': 'MODE', 'node_type': 'field'}}]"
     },
     "execution_count": 238,
     "metadata": {},
     "output_type": "execute_result"
    }
   ],
   "source": [
    "main_system.to_dict()"
   ]
  },
  {
   "cell_type": "code",
   "execution_count": null,
   "metadata": {},
   "outputs": [],
   "source": []
  },
  {
   "cell_type": "code",
   "execution_count": 220,
   "metadata": {},
   "outputs": [
    {
     "data": {
      "text/plain": "Schema(schema, parent=None)"
     },
     "execution_count": 220,
     "metadata": {},
     "output_type": "execute_result"
    }
   ],
   "source": [
    "\n",
    "\n",
    "Schema()"
   ]
  },
  {
   "cell_type": "code",
   "execution_count": 4,
   "metadata": {},
   "outputs": [],
   "source": [
    "class Table(Node):\n",
    "    def __init__(self):\n",
    "        super().__init__(\"table\")"
   ]
  },
  {
   "cell_type": "code",
   "execution_count": 88,
   "metadata": {},
   "outputs": [],
   "source": [
    "class Table(Node):\n",
    "    def __init__(self):\n",
    "        super().__init__(\"table\")"
   ]
  },
  {
   "cell_type": "code",
   "execution_count": 76,
   "metadata": {},
   "outputs": [],
   "source": [
    "class Program(BaseModel):\n",
    "    graph: nx.DiGraph = nx.DiGraph()\n",
    "    \n",
    "    class Config:\n",
    "        arbitrary_types_allowed = True\n",
    "\n",
    "    def __repr__(self):\n",
    "        return f\"Program(node_count={self.graph.number_of_nodes()})\""
   ]
  },
  {
   "cell_type": "code",
   "execution_count": 37,
   "metadata": {},
   "outputs": [],
   "source": [
    "example_graph = nx.DiGraph()"
   ]
  },
  {
   "cell_type": "code",
   "execution_count": 38,
   "metadata": {},
   "outputs": [],
   "source": [
    "example_graph.add_node(\"price_table\", typer=\"table\")"
   ]
  },
  {
   "cell_type": "code",
   "execution_count": 61,
   "metadata": {},
   "outputs": [],
   "source": [
    "example_graph.add_node(\"example_field\", typer=\"field\", value=\"integer\", name=\"sanic\")\n",
    "example_graph.add_edge(\"price_table\", \"example_field\")"
   ]
  },
  {
   "cell_type": "code",
   "execution_count": 62,
   "metadata": {},
   "outputs": [],
   "source": [
    "def visitor_change(node:dict):\n",
    "    _typer = node['typer']\n",
    "    if _typer == \"field\":\n",
    "        _value = node.get('value', None)\n",
    "        if not _value:\n",
    "            raise AttributeError\n",
    "        if _value == \"integer\":\n",
    "            print(f\"AVG({node['name']})\")"
   ]
  },
  {
   "cell_type": "code",
   "execution_count": 63,
   "metadata": {},
   "outputs": [
    {
     "name": "stdout",
     "output_type": "stream",
     "text": [
      "AVG(sanic)\n"
     ]
    }
   ],
   "source": [
    "for node in example_graph.successors(\"price_table\"):\n",
    "    visitor_change(example_graph.nodes[node])"
   ]
  },
  {
   "cell_type": "code",
   "execution_count": null,
   "metadata": {},
   "outputs": [],
   "source": []
  }
 ],
 "metadata": {
  "kernelspec": {
   "display_name": "Python 3.8.5 64-bit ('.venv')",
   "metadata": {
    "interpreter": {
     "hash": "86b938f2ea90ca35d0be045a4409f7ab8156854ecb08b8f561968857f108c46f"
    }
   },
   "name": "python3"
  },
  "language_info": {
   "codemirror_mode": {
    "name": "ipython",
    "version": 3
   },
   "file_extension": ".py",
   "mimetype": "text/x-python",
   "name": "python",
   "nbconvert_exporter": "python",
   "pygments_lexer": "ipython3",
   "version": "3.8.5"
  },
  "orig_nbformat": 2
 },
 "nbformat": 4,
 "nbformat_minor": 2
}